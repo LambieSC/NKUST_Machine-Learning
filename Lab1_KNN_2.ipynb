{
  "nbformat": 4,
  "nbformat_minor": 0,
  "metadata": {
    "colab": {
      "provenance": [],
      "authorship_tag": "ABX9TyPRNyC/smu12J1SeuuIOesf",
      "include_colab_link": true
    },
    "kernelspec": {
      "name": "python3",
      "display_name": "Python 3"
    },
    "language_info": {
      "name": "python"
    }
  },
  "cells": [
    {
      "cell_type": "markdown",
      "metadata": {
        "id": "view-in-github",
        "colab_type": "text"
      },
      "source": [
        "<a href=\"https://colab.research.google.com/github/Liyang-Tai/NKUST_Machine-Learning/blob/main/Lab1_KNN_2.ipynb\" target=\"_parent\"><img src=\"https://colab.research.google.com/assets/colab-badge.svg\" alt=\"Open In Colab\"/></a>"
      ]
    },
    {
      "cell_type": "code",
      "source": [
        "from sklearn.model_selection import train_test_split\n",
        "import pandas as pd\n",
        "import matplotlib.pyplot as plt\n",
        "from sklearn.neighbors import KNeighborsClassifier\n",
        "import  numpy as np"
      ],
      "metadata": {
        "id": "o-bw7VHD9SHk"
      },
      "execution_count": 1,
      "outputs": []
    },
    {
      "cell_type": "code",
      "source": [
        "print('Booting into Machine Learning....')"
      ],
      "metadata": {
        "colab": {
          "base_uri": "https://localhost:8080/"
        },
        "id": "r7mvoaib98Ck",
        "outputId": "ed84b4ae-ab0c-4aa4-920a-a9b37b8d672d"
      },
      "execution_count": 2,
      "outputs": [
        {
          "output_type": "stream",
          "name": "stdout",
          "text": [
            "Booting into Machine Learning....\n"
          ]
        }
      ]
    },
    {
      "cell_type": "code",
      "source": [
        "from google.colab import drive\n",
        "drive.mount('/gdrive')\n",
        "%cd /gdrive"
      ],
      "metadata": {
        "colab": {
          "base_uri": "https://localhost:8080/"
        },
        "id": "Ogh7NrOc-AgC",
        "outputId": "9341cb5d-9274-4407-dbf5-f384d7e367bd"
      },
      "execution_count": 3,
      "outputs": [
        {
          "output_type": "stream",
          "name": "stdout",
          "text": [
            "Drive already mounted at /gdrive; to attempt to forcibly remount, call drive.mount(\"/gdrive\", force_remount=True).\n",
            "/gdrive\n"
          ]
        }
      ]
    },
    {
      "cell_type": "code",
      "source": [
        "file = r'/gdrive/My Drive/Colab Notebooks/datafiles/Classification-use.xlsx'\n",
        "df = pd.read_excel(file)\n",
        "print(df)"
      ],
      "metadata": {
        "colab": {
          "base_uri": "https://localhost:8080/"
        },
        "id": "yD7Ljih7-CLI",
        "outputId": "527dd6ee-d727-4f23-a539-7d48bb767fc7"
      },
      "execution_count": 4,
      "outputs": [
        {
          "output_type": "stream",
          "name": "stdout",
          "text": [
            "      Area     Price  Sold\n",
            "0    300.0   81374.0   1.0\n",
            "1    300.0   90000.0   1.0\n",
            "2    300.0   96089.0   1.0\n",
            "3    300.0   98089.0   1.0\n",
            "4    300.0  105000.0   0.0\n",
            "..     ...       ...   ...\n",
            "85  1000.0  351088.0   0.0\n",
            "86  1000.0  359074.0   0.0\n",
            "87  1000.0  368034.0   0.0\n",
            "88  1000.0  389041.0   0.0\n",
            "89  1000.0  401074.0   0.0\n",
            "\n",
            "[90 rows x 3 columns]\n"
          ]
        }
      ]
    },
    {
      "cell_type": "code",
      "source": [
        "# K-Nearest Neighbors (K-NN)\n",
        "X = df.iloc[:, [0, 1]].values\n",
        "y = df.iloc[:, 2].values\n",
        "\n",
        "print(X)\n",
        "print(y)"
      ],
      "metadata": {
        "colab": {
          "base_uri": "https://localhost:8080/"
        },
        "id": "38KR41wk-D36",
        "outputId": "b037d259-dff4-4acb-b047-b7864c5269be"
      },
      "execution_count": 5,
      "outputs": [
        {
          "output_type": "stream",
          "name": "stdout",
          "text": [
            "[[3.00000e+02 8.13740e+04]\n",
            " [3.00000e+02 9.00000e+04]\n",
            " [3.00000e+02 9.60890e+04]\n",
            " [3.00000e+02 9.80890e+04]\n",
            " [3.00000e+02 1.05000e+05]\n",
            " [3.00000e+02 1.10000e+05]\n",
            " [3.00000e+02 1.18000e+05]\n",
            " [3.00000e+02 1.20000e+05]\n",
            " [3.00000e+02 1.30000e+05]\n",
            " [3.00000e+02 1.40000e+05]\n",
            " [4.00000e+02 8.13740e+04]\n",
            " [4.00000e+02 9.00000e+04]\n",
            " [4.00000e+02 9.80890e+04]\n",
            " [4.00000e+02 1.05000e+05]\n",
            " [4.00000e+02 1.18000e+05]\n",
            " [4.00000e+02 1.20000e+05]\n",
            " [4.00000e+02 1.30000e+05]\n",
            " [4.00000e+02 1.40000e+05]\n",
            " [4.50000e+02 8.33000e+04]\n",
            " [4.50000e+02 1.40200e+05]\n",
            " [4.50000e+02 1.51349e+05]\n",
            " [4.50000e+02 1.91399e+05]\n",
            " [4.50000e+02 2.01349e+05]\n",
            " [5.00000e+02 1.01324e+05]\n",
            " [5.00000e+02 1.04324e+05]\n",
            " [5.00000e+02 1.11324e+05]\n",
            " [5.00000e+02 1.31324e+05]\n",
            " [5.00000e+02 1.51324e+05]\n",
            " [5.00000e+02 1.80000e+05]\n",
            " [5.00000e+02 1.91324e+05]\n",
            " [5.00000e+02 2.11324e+05]\n",
            " [5.50000e+02 1.40500e+05]\n",
            " [5.50000e+02 1.65002e+05]\n",
            " [5.50000e+02 1.75103e+05]\n",
            " [5.50000e+02 1.91431e+05]\n",
            " [5.50000e+02 2.10131e+05]\n",
            " [5.50000e+02 2.30131e+05]\n",
            " [5.50000e+02 2.21299e+05]\n",
            " [5.50000e+02 2.41299e+05]\n",
            " [6.00000e+02 2.10000e+05]\n",
            " [6.00000e+02 2.20040e+05]\n",
            " [6.00000e+02 2.28999e+05]\n",
            " [6.00000e+02 2.41219e+05]\n",
            " [6.00000e+02 2.52101e+05]\n",
            " [6.00000e+02 2.51211e+05]\n",
            " [6.00000e+02 2.60081e+05]\n",
            " [6.00000e+02 3.65211e+05]\n",
            " [6.00000e+02 2.71211e+05]\n",
            " [6.00000e+02 2.80081e+05]\n",
            " [6.00000e+02 3.01211e+05]\n",
            " [7.00000e+02 2.10000e+05]\n",
            " [7.00000e+02 2.20040e+05]\n",
            " [7.00000e+02 2.28999e+05]\n",
            " [7.00000e+02 2.41219e+05]\n",
            " [7.00000e+02 2.52101e+05]\n",
            " [7.00000e+02 2.71211e+05]\n",
            " [7.00000e+02 2.80081e+05]\n",
            " [7.00000e+02 3.01211e+05]\n",
            " [8.00000e+02 2.10000e+05]\n",
            " [8.00000e+02 2.20040e+05]\n",
            " [8.00000e+02 2.28999e+05]\n",
            " [8.00000e+02 2.41219e+05]\n",
            " [8.00000e+02 2.52101e+05]\n",
            " [8.00000e+02 2.60001e+05]\n",
            " [8.00000e+02 2.71211e+05]\n",
            " [8.00000e+02 2.65211e+05]\n",
            " [8.00000e+02 2.80081e+05]\n",
            " [8.00000e+02 3.01211e+05]\n",
            " [9.00000e+02 2.70000e+05]\n",
            " [9.00000e+02 2.20040e+05]\n",
            " [9.00000e+02 2.28999e+05]\n",
            " [9.00000e+02 2.41219e+05]\n",
            " [9.00000e+02 2.71219e+05]\n",
            " [9.00000e+02 2.81219e+05]\n",
            " [9.00000e+02 2.91219e+05]\n",
            " [9.00000e+02 2.81719e+05]\n",
            " [9.00000e+02 3.00000e+05]\n",
            " [9.00000e+02 3.21211e+05]\n",
            " [9.00000e+02 3.40081e+05]\n",
            " [9.00000e+02 3.51211e+05]\n",
            " [1.00000e+03 2.91073e+05]\n",
            " [1.00000e+03 2.81054e+05]\n",
            " [1.00000e+03 3.01026e+05]\n",
            " [1.00000e+03 3.21074e+05]\n",
            " [1.00000e+03 3.41074e+05]\n",
            " [1.00000e+03 3.51088e+05]\n",
            " [1.00000e+03 3.59074e+05]\n",
            " [1.00000e+03 3.68034e+05]\n",
            " [1.00000e+03 3.89041e+05]\n",
            " [1.00000e+03 4.01074e+05]]\n",
            "[1. 1. 1. 1. 0. 0. 0. 0. 0. 0. 1. 1. 1. 1. 1. 0. 0. 0. 1. 1. 1. 0. 0. 1.\n",
            " 1. 1. 1. 1. 0. 0. 0. 1. 1. 1. 1. 0. 0. 0. 0. 1. 1. 1. 1. 0. 0. 0. 0. 0.\n",
            " 0. 0. 1. 1. 1. 1. 0. 0. 0. 0. 1. 1. 1. 1. 1. 1. 0. 0. 0. 0. 1. 1. 1. 1.\n",
            " 1. 1. 1. 1. 0. 0. 0. 0. 1. 1. 1. 1. 1. 0. 0. 0. 0. 0.]\n"
          ]
        }
      ]
    },
    {
      "cell_type": "code",
      "source": [
        "# Splitting the dataset into the Training set and Test set\n",
        "X_train, X_test, y_train, y_test = train_test_split(X,y,random_state=0,train_size=0.8)\n",
        "\n",
        "print(X_train)"
      ],
      "metadata": {
        "colab": {
          "base_uri": "https://localhost:8080/"
        },
        "id": "rfEpO33k-Eb3",
        "outputId": "03f370a8-eaf8-48af-a72e-6cd466eab368"
      },
      "execution_count": 6,
      "outputs": [
        {
          "output_type": "stream",
          "name": "stdout",
          "text": [
            "[[9.00000e+02 3.21211e+05]\n",
            " [6.00000e+02 2.41219e+05]\n",
            " [4.50000e+02 2.01349e+05]\n",
            " [3.00000e+02 1.18000e+05]\n",
            " [8.00000e+02 2.41219e+05]\n",
            " [6.00000e+02 2.80081e+05]\n",
            " [1.00000e+03 2.91073e+05]\n",
            " [7.00000e+02 2.52101e+05]\n",
            " [9.00000e+02 2.81219e+05]\n",
            " [9.00000e+02 3.51211e+05]\n",
            " [1.00000e+03 3.01026e+05]\n",
            " [3.00000e+02 9.80890e+04]\n",
            " [8.00000e+02 2.52101e+05]\n",
            " [9.00000e+02 2.81719e+05]\n",
            " [5.00000e+02 1.51324e+05]\n",
            " [4.50000e+02 8.33000e+04]\n",
            " [7.00000e+02 2.10000e+05]\n",
            " [7.00000e+02 2.20040e+05]\n",
            " [9.00000e+02 2.91219e+05]\n",
            " [8.00000e+02 2.20040e+05]\n",
            " [7.00000e+02 2.71211e+05]\n",
            " [3.00000e+02 1.05000e+05]\n",
            " [4.00000e+02 1.20000e+05]\n",
            " [4.00000e+02 1.40000e+05]\n",
            " [6.00000e+02 2.20040e+05]\n",
            " [5.50000e+02 2.41299e+05]\n",
            " [3.00000e+02 1.10000e+05]\n",
            " [1.00000e+03 2.81054e+05]\n",
            " [9.00000e+02 2.70000e+05]\n",
            " [3.00000e+02 8.13740e+04]\n",
            " [5.50000e+02 1.91431e+05]\n",
            " [5.00000e+02 1.80000e+05]\n",
            " [4.00000e+02 9.00000e+04]\n",
            " [5.50000e+02 2.10131e+05]\n",
            " [5.00000e+02 1.01324e+05]\n",
            " [7.00000e+02 2.28999e+05]\n",
            " [4.00000e+02 8.13740e+04]\n",
            " [5.50000e+02 1.40500e+05]\n",
            " [8.00000e+02 2.28999e+05]\n",
            " [7.00000e+02 3.01211e+05]\n",
            " [9.00000e+02 2.41219e+05]\n",
            " [3.00000e+02 9.00000e+04]\n",
            " [5.50000e+02 1.65002e+05]\n",
            " [9.00000e+02 3.00000e+05]\n",
            " [4.00000e+02 1.18000e+05]\n",
            " [1.00000e+03 3.51088e+05]\n",
            " [4.50000e+02 1.40200e+05]\n",
            " [5.00000e+02 1.91324e+05]\n",
            " [6.00000e+02 3.01211e+05]\n",
            " [1.00000e+03 3.68034e+05]\n",
            " [1.00000e+03 3.89041e+05]\n",
            " [9.00000e+02 2.20040e+05]\n",
            " [4.50000e+02 1.51349e+05]\n",
            " [1.00000e+03 3.41074e+05]\n",
            " [9.00000e+02 2.71219e+05]\n",
            " [5.00000e+02 1.11324e+05]\n",
            " [5.50000e+02 2.21299e+05]\n",
            " [6.00000e+02 3.65211e+05]\n",
            " [6.00000e+02 2.10000e+05]\n",
            " [8.00000e+02 2.65211e+05]\n",
            " [8.00000e+02 2.10000e+05]\n",
            " [4.00000e+02 9.80890e+04]\n",
            " [9.00000e+02 2.28999e+05]\n",
            " [5.50000e+02 2.30131e+05]\n",
            " [4.50000e+02 1.91399e+05]\n",
            " [1.00000e+03 3.21074e+05]\n",
            " [3.00000e+02 1.40000e+05]\n",
            " [1.00000e+03 3.59074e+05]\n",
            " [8.00000e+02 3.01211e+05]\n",
            " [8.00000e+02 2.71211e+05]\n",
            " [6.00000e+02 2.71211e+05]\n",
            " [6.00000e+02 2.51211e+05]]\n"
          ]
        }
      ]
    },
    {
      "cell_type": "code",
      "source": [
        "# Feature Scaling\n",
        "from sklearn.preprocessing import StandardScaler\n",
        "sc = StandardScaler()\n",
        "X_train = sc.fit_transform(X_train)\n",
        "X_test = sc.transform(X_test)\n",
        "\n",
        "print(X_train)"
      ],
      "metadata": {
        "colab": {
          "base_uri": "https://localhost:8080/"
        },
        "id": "0ulxzWFt-H86",
        "outputId": "4c57256d-be2f-4969-864d-9aa7a862d799"
      },
      "execution_count": 7,
      "outputs": [
        {
          "output_type": "stream",
          "name": "stdout",
          "text": [
            "[[ 1.0785216   1.21341605]\n",
            " [-0.2603328   0.23739154]\n",
            " [-0.92976    -0.24908332]\n",
            " [-1.59918721 -1.26606834]\n",
            " [ 0.6322368   0.23739154]\n",
            " [-0.2603328   0.71156726]\n",
            " [ 1.52480641  0.84568644]\n",
            " [ 0.185952    0.37016855]\n",
            " [ 1.0785216   0.7254526 ]\n",
            " [ 1.0785216   1.57946184]\n",
            " [ 1.52480641  0.96712824]\n",
            " [-1.59918721 -1.50901294]\n",
            " [ 0.6322368   0.37016855]\n",
            " [ 1.0785216   0.73155336]\n",
            " [-0.7066176  -0.85946468]\n",
            " [-0.92976    -1.68946131]\n",
            " [ 0.185952   -0.14352791]\n",
            " [ 0.185952   -0.02102459]\n",
            " [ 1.0785216   0.84746787]\n",
            " [ 0.6322368  -0.02102459]\n",
            " [ 0.185952    0.60333972]\n",
            " [-1.59918721 -1.42468819]\n",
            " [-1.15290241 -1.24166529]\n",
            " [-1.15290241 -0.99763476]\n",
            " [-0.2603328  -0.02102459]\n",
            " [-0.4834752   0.23836766]\n",
            " [-1.59918721 -1.36368056]\n",
            " [ 1.52480641  0.72343935]\n",
            " [ 1.0785216   0.58856368]\n",
            " [-1.59918721 -1.71296145]\n",
            " [-0.4834752  -0.37009806]\n",
            " [-0.7066176  -0.5095737 ]\n",
            " [-1.15290241 -1.60771108]\n",
            " [-0.4834752  -0.14192951]\n",
            " [-0.7066176  -1.469541  ]\n",
            " [ 0.185952    0.08828889]\n",
            " [-1.15290241 -1.71296145]\n",
            " [-0.4834752  -0.991534  ]\n",
            " [ 0.6322368   0.08828889]\n",
            " [ 0.185952    0.96938552]\n",
            " [ 1.0785216   0.23739154]\n",
            " [-1.59918721 -1.60771108]\n",
            " [-0.4834752  -0.6925722 ]\n",
            " [ 1.0785216   0.95460947]\n",
            " [-1.15290241 -1.26606834]\n",
            " [ 1.52480641  1.57796105]\n",
            " [-0.92976    -0.99519446]\n",
            " [-0.7066176  -0.37140362]\n",
            " [-0.2603328   0.96938552]\n",
            " [ 1.52480641  1.78472812]\n",
            " [ 1.52480641  2.04104559]\n",
            " [ 1.0785216  -0.02102459]\n",
            " [-0.92976    -0.85915964]\n",
            " [ 1.52480641  1.45577497]\n",
            " [ 1.0785216   0.60343734]\n",
            " [-0.7066176  -1.34752574]\n",
            " [-0.4834752  -0.00566286]\n",
            " [-0.2603328   1.75028321]\n",
            " [-0.2603328  -0.14352791]\n",
            " [ 0.6322368   0.53013057]\n",
            " [ 0.6322368  -0.14352791]\n",
            " [-1.15290241 -1.50901294]\n",
            " [ 1.0785216   0.08828889]\n",
            " [-0.4834752   0.10210102]\n",
            " [-0.92976    -0.3704885 ]\n",
            " [ 1.52480641  1.21174444]\n",
            " [-1.59918721 -0.99763476]\n",
            " [ 1.52480641  1.67540244]\n",
            " [ 0.6322368   0.96938552]\n",
            " [ 0.6322368   0.60333972]\n",
            " [-0.2603328   0.60333972]\n",
            " [-0.2603328   0.3593092 ]]\n"
          ]
        }
      ]
    },
    {
      "cell_type": "code",
      "source": [
        "# Fitting K-NN to the Training set\n",
        "\n",
        "classifier = KNeighborsClassifier(n_neighbors = 17,weights='distance')\n",
        "classifier.fit(X_train, y_train)"
      ],
      "metadata": {
        "colab": {
          "base_uri": "https://localhost:8080/"
        },
        "id": "tHk57PKw-Js0",
        "outputId": "ffe33995-cd1f-4b12-ebc2-f21a603ef66a"
      },
      "execution_count": 8,
      "outputs": [
        {
          "output_type": "execute_result",
          "data": {
            "text/plain": [
              "KNeighborsClassifier(n_neighbors=17, weights='distance')"
            ]
          },
          "metadata": {},
          "execution_count": 8
        }
      ]
    },
    {
      "cell_type": "code",
      "source": [
        "# Predicting the Test set results\n",
        "y_pred = classifier.predict(X_test)\n",
        "print('y_pred',y_pred)\n",
        "print('y_test',y_test)"
      ],
      "metadata": {
        "colab": {
          "base_uri": "https://localhost:8080/"
        },
        "id": "zDuR0F8O-LNq",
        "outputId": "de49eb15-fc86-4735-e6d5-e9772d7a304f"
      },
      "execution_count": 9,
      "outputs": [
        {
          "output_type": "stream",
          "name": "stdout",
          "text": [
            "y_pred [1. 1. 1. 1. 0. 0. 0. 0. 0. 0. 0. 1. 1. 1. 0. 1. 1. 0.]\n",
            "y_test [1. 1. 1. 1. 0. 0. 0. 0. 0. 0. 0. 1. 1. 1. 0. 0. 1. 0.]\n"
          ]
        }
      ]
    },
    {
      "cell_type": "code",
      "source": [
        "#MODEL EVALUATION STEP\n",
        "# Making the Confusion Matrix\n",
        "from sklearn.metrics import confusion_matrix\n",
        "cm = confusion_matrix(y_test, y_pred)\n",
        "print(cm)"
      ],
      "metadata": {
        "colab": {
          "base_uri": "https://localhost:8080/"
        },
        "id": "m7Y9aH9I-Mla",
        "outputId": "7e6a986a-f12a-4b46-a7d1-6c6843f90718"
      },
      "execution_count": 10,
      "outputs": [
        {
          "output_type": "stream",
          "name": "stdout",
          "text": [
            "[[9 1]\n",
            " [0 8]]\n"
          ]
        }
      ]
    },
    {
      "cell_type": "code",
      "source": [
        "# Visualising the Test set results\n",
        "from matplotlib.colors import ListedColormap\n",
        "X_set, y_set = X_test, y_test\n",
        "X1, X2 = np.meshgrid(np.arange(start = X_set[:, 0].min() - 1, stop = X_set[:, 0].max() + 1, step = 0.01),\n",
        "                     np.arange(start = X_set[:, 1].min() - 1, stop = X_set[:, 1].max() + 1, step = 0.01))\n",
        "plt.contourf(X1, X2, classifier.predict(np.array([X1.ravel(), X2.ravel()]).T).reshape(X1.shape),\n",
        "             alpha = 0.75, cmap = ListedColormap(('black', 'grey')))\n",
        "plt.xlim(X1.min(), X1.max())\n",
        "plt.ylim(X2.min(), X2.max())\n",
        "for i, j in enumerate(np.unique(y_set)):\n",
        "    plt.scatter(X_set[y_set == j, 0], X_set[y_set == j, 1],\n",
        "                c = ListedColormap(('red', 'green'))(i), label = j)\n",
        "plt.title('K-NN (Test set)')\n",
        "plt.xlabel('Area')\n",
        "plt.ylabel('Price')\n",
        "plt.legend()\n",
        "plt.show()"
      ],
      "metadata": {
        "colab": {
          "base_uri": "https://localhost:8080/",
          "height": 350
        },
        "id": "lyR-s3cU-ODk",
        "outputId": "e7512835-6fbf-43e3-e3d6-5a3d0605f8d6"
      },
      "execution_count": 11,
      "outputs": [
        {
          "output_type": "stream",
          "name": "stderr",
          "text": [
            "WARNING:matplotlib.axes._axes:*c* argument looks like a single numeric RGB or RGBA sequence, which should be avoided as value-mapping will have precedence in case its length matches with *x* & *y*.  Please use the *color* keyword-argument or provide a 2-D array with a single row if you intend to specify the same RGB or RGBA value for all points.\n",
            "WARNING:matplotlib.axes._axes:*c* argument looks like a single numeric RGB or RGBA sequence, which should be avoided as value-mapping will have precedence in case its length matches with *x* & *y*.  Please use the *color* keyword-argument or provide a 2-D array with a single row if you intend to specify the same RGB or RGBA value for all points.\n"
          ]
        },
        {
          "output_type": "display_data",
          "data": {
            "text/plain": [
              "<Figure size 432x288 with 1 Axes>"
            ],
            "image/png": "[encoded data removed]"
          },
          "metadata": {
            "needs_background": "light"
          }
        }
      ]
    }
  ]
}